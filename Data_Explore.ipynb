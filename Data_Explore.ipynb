{
 "cells": [
  {
   "cell_type": "code",
   "execution_count": 1,
   "metadata": {},
   "outputs": [],
   "source": [
    "import configparser\n",
    "\n",
    "import pandas as pd\n",
    "import numpy as np\n",
    "import matplotlib.pyplot as plt"
   ]
  },
  {
   "cell_type": "code",
   "execution_count": 2,
   "metadata": {},
   "outputs": [],
   "source": [
    "import os"
   ]
  },
  {
   "cell_type": "code",
   "execution_count": 3,
   "metadata": {},
   "outputs": [],
   "source": [
    "config_parser = configparser.ConfigParser()\n",
    "config_parser.read(\"conf.txt\")\n",
    "PATH = config_parser['PATH']['path']"
   ]
  },
  {
   "cell_type": "code",
   "execution_count": 4,
   "metadata": {},
   "outputs": [],
   "source": [
    "train_path = os.path.join(PATH, \"train\")\n",
    "test_path = os.path.join(PATH, \"test\")\n",
    "meta_path = os.path.join(PATH, \"metadata\")"
   ]
  },
  {
   "cell_type": "markdown",
   "metadata": {},
   "source": [
    "The train data is divided into multiple building parts. Each part contains several floors:\n",
    "\n",
    "```train -> building_A -> floor_F2 -> [signal_A.txt, signal_B.txt, ...]```\n",
    "\n",
    "The accompaning meta data belongs is divided in a similar manner:\n",
    "\n",
    "```metadata -> building_A -> floor_F2 -> [floor_image.png, floor_info.json, geojson_map.json]```\n",
    "\n",
    "The test data however is not partioned like that: the records are accessible directly:\n",
    "\n",
    "```test -> [signal_A.txt, signal_B.txt, ...]```"
   ]
  },
  {
   "cell_type": "code",
   "execution_count": 5,
   "metadata": {},
   "outputs": [
    {
     "name": "stdout",
     "output_type": "stream",
     "text": [
      "There are total 204 building sessions in the train set\n"
     ]
    }
   ],
   "source": [
    "building_sess = os.listdir(train_path)\n",
    "print(f\"There are total {len(building_sess)} building sessions in the train set\")"
   ]
  },
  {
   "cell_type": "code",
   "execution_count": 6,
   "metadata": {},
   "outputs": [],
   "source": [
    "# pick a sample and analyse the data:\n",
    "n = 101\n",
    "assert n < len(building_sess)\n",
    "sample_sess_path = os.path.join(train_path, building_sess[n])"
   ]
  },
  {
   "cell_type": "code",
   "execution_count": 7,
   "metadata": {},
   "outputs": [],
   "source": [
    "floors_map = {\"B3\":-3,\"B2\":-2,\"B1\":-1,\n",
    "              \"F1\":0,\"1F\":0,\"F2\":1,\"2F\":1,\n",
    "              \"F3\":2,\"3F\":2,\"F4\":3,\"4F\":3, \n",
    "              \"F5\":4,\"5F\":4,\"F6\":5,\"6F\":5,\n",
    "              \"F7\":6,\"7F\":6,\"F8\":7,\"8F\": 7,\n",
    "              \"F9\":8,\"9F\":8,\"F10\":9}"
   ]
  },
  {
   "cell_type": "code",
   "execution_count": 8,
   "metadata": {},
   "outputs": [],
   "source": [
    "col_names = [\"ts\", \"sensor_type\", \"v1\", \"v2\", \"v3\", \"v4\", \"v5\", \"v6\", \"v7\"]"
   ]
  },
  {
   "cell_type": "code",
   "execution_count": 9,
   "metadata": {},
   "outputs": [],
   "source": [
    "def get_floors(building_full_path):\n",
    "    # B before F, 1 before 2\n",
    "    return sorted(os.listdir(sample_sess_path))"
   ]
  },
  {
   "cell_type": "code",
   "execution_count": 10,
   "metadata": {},
   "outputs": [],
   "source": [
    "def get_line_num_valid(path):\n",
    "    file = open(path, \"r\")\n",
    "    line_num = 0\n",
    "    while(True):\n",
    "        line = file.readline()\n",
    "        if(line.startswith(\"#\")):\n",
    "            line_num += 1\n",
    "            continue\n",
    "        return line_num\n",
    "\n",
    "\n",
    "def read_file_as_df(path):\n",
    "    valid_line_start = get_line_num_valid(path)\n",
    "    ## TODO: set dtype={\"col_name\": int, } for the columns here, since they are mixed\n",
    "    df = pd.read_csv(path, sep='\\t', skiprows=valid_line_start, names=col_names)\n",
    "    # remove lines that start with '#'\n",
    "    df = df[df.ts != '#']\n",
    "    return df\n"
   ]
  },
  {
   "cell_type": "markdown",
   "metadata": {},
   "source": [
    "Read one sample into dataframe"
   ]
  },
  {
   "cell_type": "code",
   "execution_count": 11,
   "metadata": {},
   "outputs": [],
   "source": [
    "### TODO Try and read some sample here"
   ]
  },
  {
   "cell_type": "code",
   "execution_count": 12,
   "metadata": {},
   "outputs": [],
   "source": [
    "def get_data_per_floor(site_id_path, floor):\n",
    "    floors = get_floors(site_id_path)\n",
    "    if floor not in floors:\n",
    "        raise Exception(\"No such floor at this site\")\n",
    "    df = pd.DataFrame()\n",
    "    path = os.path.join(site_id_path, floor)\n",
    "    sessions = os.listdir(path)\n",
    "    for session in sessions:\n",
    "        full_path = os.path.join(path, session)\n",
    "        df_floor = read_file_as_df(full_path)\n",
    "        # add the session id\n",
    "        df_floor[\"session_id\"] = session\n",
    "        df = df.append(df_floor)\n",
    "    return df"
   ]
  },
  {
   "cell_type": "code",
   "execution_count": 13,
   "metadata": {},
   "outputs": [
    {
     "name": "stdout",
     "output_type": "stream",
     "text": [
      "Available floors for 5dbc1d84c1eb61796cf7c010: ['B1', 'F2', 'F3', 'F4', 'F5', 'F6', 'F7', 'F8']\n"
     ]
    },
    {
     "name": "stderr",
     "output_type": "stream",
     "text": [
      "/usr/lib/python3/dist-packages/IPython/core/interactiveshell.py:3331: DtypeWarning: Columns (0) have mixed types.Specify dtype option on import or set low_memory=False.\n",
      "  exec(code_obj, self.user_global_ns, self.user_ns)\n",
      "/usr/lib/python3/dist-packages/IPython/core/interactiveshell.py:3331: DtypeWarning: Columns (0,4,8) have mixed types.Specify dtype option on import or set low_memory=False.\n",
      "  exec(code_obj, self.user_global_ns, self.user_ns)\n"
     ]
    }
   ],
   "source": [
    "sample_floors = get_floors(sample_sess_path)\n",
    "print(f\"Available floors for {building_sess[n]}: {sample_floors}\")\n",
    "sample_floor = sample_floors[2]\n",
    "# this might take some time\n",
    "sample_floor_df = get_data_per_floor(sample_sess_path, sample_floor)\n",
    "sample_floor_df['floor'] = sample_floor"
   ]
  },
  {
   "cell_type": "code",
   "execution_count": 14,
   "metadata": {},
   "outputs": [
    {
     "data": {
      "text/html": [
       "<div>\n",
       "<style scoped>\n",
       "    .dataframe tbody tr th:only-of-type {\n",
       "        vertical-align: middle;\n",
       "    }\n",
       "\n",
       "    .dataframe tbody tr th {\n",
       "        vertical-align: top;\n",
       "    }\n",
       "\n",
       "    .dataframe thead th {\n",
       "        text-align: right;\n",
       "    }\n",
       "</style>\n",
       "<table border=\"1\" class=\"dataframe\">\n",
       "  <thead>\n",
       "    <tr style=\"text-align: right;\">\n",
       "      <th></th>\n",
       "      <th>ts</th>\n",
       "      <th>sensor_type</th>\n",
       "      <th>v1</th>\n",
       "      <th>v2</th>\n",
       "      <th>v3</th>\n",
       "      <th>v4</th>\n",
       "      <th>v5</th>\n",
       "      <th>v6</th>\n",
       "      <th>v7</th>\n",
       "      <th>session_id</th>\n",
       "      <th>floor</th>\n",
       "    </tr>\n",
       "  </thead>\n",
       "  <tbody>\n",
       "    <tr>\n",
       "      <th>0</th>\n",
       "      <td>1574143344486</td>\n",
       "      <td>TYPE_WAYPOINT</td>\n",
       "      <td>158.0061</td>\n",
       "      <td>123.61419</td>\n",
       "      <td>NaN</td>\n",
       "      <td>NaN</td>\n",
       "      <td>NaN</td>\n",
       "      <td>NaN</td>\n",
       "      <td>NaN</td>\n",
       "      <td>5dd3901e27889b0006b76adc.txt</td>\n",
       "      <td>F3</td>\n",
       "    </tr>\n",
       "    <tr>\n",
       "      <th>1</th>\n",
       "      <td>1574143344608</td>\n",
       "      <td>TYPE_ACCELEROMETER</td>\n",
       "      <td>-0.3776703</td>\n",
       "      <td>1.3677368</td>\n",
       "      <td>7.491226</td>\n",
       "      <td>2.0</td>\n",
       "      <td>NaN</td>\n",
       "      <td>NaN</td>\n",
       "      <td>NaN</td>\n",
       "      <td>5dd3901e27889b0006b76adc.txt</td>\n",
       "      <td>F3</td>\n",
       "    </tr>\n",
       "    <tr>\n",
       "      <th>2</th>\n",
       "      <td>1574143344608</td>\n",
       "      <td>TYPE_MAGNETIC_FIELD</td>\n",
       "      <td>-24.937439</td>\n",
       "      <td>0.592041</td>\n",
       "      <td>-34.19037</td>\n",
       "      <td>3.0</td>\n",
       "      <td>NaN</td>\n",
       "      <td>NaN</td>\n",
       "      <td>NaN</td>\n",
       "      <td>5dd3901e27889b0006b76adc.txt</td>\n",
       "      <td>F3</td>\n",
       "    </tr>\n",
       "  </tbody>\n",
       "</table>\n",
       "</div>"
      ],
      "text/plain": [
       "              ts          sensor_type          v1         v2         v3   v4  \\\n",
       "0  1574143344486        TYPE_WAYPOINT    158.0061  123.61419        NaN  NaN   \n",
       "1  1574143344608   TYPE_ACCELEROMETER  -0.3776703  1.3677368   7.491226  2.0   \n",
       "2  1574143344608  TYPE_MAGNETIC_FIELD  -24.937439   0.592041  -34.19037  3.0   \n",
       "\n",
       "   v5  v6   v7                    session_id floor  \n",
       "0 NaN NaN  NaN  5dd3901e27889b0006b76adc.txt    F3  \n",
       "1 NaN NaN  NaN  5dd3901e27889b0006b76adc.txt    F3  \n",
       "2 NaN NaN  NaN  5dd3901e27889b0006b76adc.txt    F3  "
      ]
     },
     "execution_count": 14,
     "metadata": {},
     "output_type": "execute_result"
    }
   ],
   "source": [
    "# df with all the records for one floor\n",
    "sample_floor_df.head(3)"
   ]
  },
  {
   "cell_type": "code",
   "execution_count": 15,
   "metadata": {},
   "outputs": [
    {
     "data": {
      "text/plain": [
       "array(['TYPE_WAYPOINT', 'TYPE_ACCELEROMETER', 'TYPE_MAGNETIC_FIELD',\n",
       "       'TYPE_GYROSCOPE', 'TYPE_ROTATION_VECTOR',\n",
       "       'TYPE_MAGNETIC_FIELD_UNCALIBRATED', 'TYPE_GYROSCOPE_UNCALIBRATED',\n",
       "       'TYPE_ACCELEROMETER_UNCALIBRATED', 'TYPE_BEACON', 'TYPE_WIFI'],\n",
       "      dtype=object)"
      ]
     },
     "execution_count": 15,
     "metadata": {},
     "output_type": "execute_result"
    }
   ],
   "source": [
    "# View the different sensors used for this floor\n",
    "pd.unique(sample_floor_df.sensor_type)"
   ]
  },
  {
   "cell_type": "code",
   "execution_count": null,
   "metadata": {},
   "outputs": [],
   "source": []
  }
 ],
 "metadata": {
  "kernelspec": {
   "display_name": "Python 3",
   "language": "python",
   "name": "python3"
  },
  "language_info": {
   "codemirror_mode": {
    "name": "ipython",
    "version": 3
   },
   "file_extension": ".py",
   "mimetype": "text/x-python",
   "name": "python",
   "nbconvert_exporter": "python",
   "pygments_lexer": "ipython3",
   "version": "3.8.5"
  }
 },
 "nbformat": 4,
 "nbformat_minor": 4
}
